{
  "nbformat": 4,
  "nbformat_minor": 0,
  "metadata": {
    "colab": {
      "name": "Untitled0.ipynb",
      "provenance": []
    },
    "kernelspec": {
      "name": "python3",
      "display_name": "Python 3"
    },
    "language_info": {
      "name": "python"
    }
  },
  "cells": [
    {
      "cell_type": "code",
      "metadata": {
        "id": "nWTMsBCqAVE5"
      },
      "source": [
        "import json\n",
        "import datetime"
      ],
      "execution_count": 13,
      "outputs": []
    },
    {
      "cell_type": "code",
      "metadata": {
        "id": "eoJnVDANBFQ9",
        "outputId": "6cb62b82-f672-4ded-81cc-f2e90bc22a92",
        "colab": {
          "base_uri": "https://localhost:8080/"
        }
      },
      "source": [
        "with open('Inventory_records.json', 'r') as fd:\n",
        "        purchase_records = json.load(fd)\n",
        "        for item in purchase_records:\n",
        "            print(f\"Item Id:{item}\\nItem Discription:{purchase_records[item]}\")"
      ],
      "execution_count": 14,
      "outputs": [
        {
          "output_type": "stream",
          "name": "stdout",
          "text": [
            "Item Id:001\n",
            "Item Discription:{'Item Name': 'dairy milk', 'Item Quantity': '100', 'Item Rate': '10', 'Item Category': 'chocolate'}\n",
            "Item Id:002\n",
            "Item Discription:{'Item Name': 'kitkat', 'Item Quantity': '70', 'Item Rate': '20', 'Item Category': 'chocolate'}\n",
            "Item Id:003\n",
            "Item Discription:{'Item Name': '5star', 'Item Quantity': '50', 'Item Rate': '30', 'Item Category': 'chocolate'}\n",
            "Item Id:004\n",
            "Item Discription:{'Item Name': 'Cadbury', 'Item Quantity': '150', 'Item Rate': '15', 'Item Category': 'chocolate'}\n",
            "Item Id:005\n",
            "Item Discription:{'Item Name': 'perk', 'Item Quantity': '50', 'Item Rate': '40', 'Item Category': 'chocolate'}\n",
            "Item Id:006\n",
            "Item Discription:{'Item Name': 'lays', 'Item Quantity': '70', 'Item Rate': '5', 'Item Category': 'wafer'}\n",
            "Item Id:007\n",
            "Item Discription:{'Item Name': 'Chips', 'Item Quantity': '100', 'Item Rate': '10', 'Item Category': 'wafer'}\n",
            "Item Id:008\n",
            "Item Discription:{'Item Name': 'Aloo sev', 'Item Quantity': '25', 'Item Rate': '20', 'Item Category': 'wafer'}\n",
            "Item Id:009\n",
            "Item Discription:{'Item Name': 'Balaji Wafers  ', 'Item Quantity': '50', 'Item Rate': '20', 'Item Category': 'wafer'}\n",
            "Item Id:010\n",
            "Item Discription:{'Item Name': 'Yumstix', 'Item Quantity': '25', 'Item Rate': '30', 'Item Category': 'wafer'}\n",
            "Item Id:011\n",
            "Item Discription:{'Item Name': 'Vegetarian footlong', 'Item Quantity': '75', 'Item Rate': '75', 'Item Category': 'plate'}\n",
            "Item Id:012\n",
            "Item Discription:{'Item Name': 'Footlong', 'Item Quantity': '95', 'Item Rate': '95', 'Item Category': 'plate'}\n",
            "Item Id:013\n",
            "Item Discription:{'Item Name': 'Egg & Cheese', 'Item Quantity': '70', 'Item Rate': '20', 'Item Category': 'plate'}\n",
            "Item Id:014\n",
            "Item Discription:{'Item Name': 'Bacon & Egg', 'Item Quantity': '70', 'Item Rate': '20', 'Item Category': 'plate'}\n",
            "Item Id:015\n",
            "Item Discription:{'Item Name': 'noodles', 'Item Quantity': '70', 'Item Rate': '20', 'Item Category': 'plate'}\n",
            "Item Id:016\n",
            "Item Discription:{'Item Name': 'Chicken Ham & Egg', 'Item Quantity': '70', 'Item Rate': '20', 'Item Category': 'plate'}\n",
            "Item Id:017\n",
            "Item Discription:{'Item Name': 'Econo Meal (McAloo Tikki + Small Fries + Coke)', 'Item Quantity': '250', 'Item Rate': '250', 'Item Category': 'plate'}\n",
            "Item Id:018\n",
            "Item Discription:{'Item Name': 'Good day', 'Item Quantity': '40', 'Item Rate': '10', 'Item Category': 'Biscuit'}\n",
            "Item Id:019\n",
            "Item Discription:{'Item Name': 'Oreo)', 'Item Quantity': '110', 'Item Rate': '20', 'Item Category': 'Biscuit'}\n",
            "Item Id:020\n",
            "Item Discription:{'Item Name': 'Monaco', 'Item Quantity': '250', 'Item Rate': '30', 'Item Category': 'Biscuit'}\n",
            "Item Id:021\n",
            "Item Discription:{'Item Name': 'Parle-G', 'Item Quantity': '70', 'Item Rate': '20', 'Item Category': 'Biscuit'}\n",
            "Item Id:022\n",
            "Item Discription:{'Item Name': 'Big cola', 'Item Quantity': '10', 'Item Rate': '60', 'Item Category': 'Cold Drink'}\n",
            "Item Id:023\n",
            "Item Discription:{'Item Name': 'Maza', 'Item Quantity': '80', 'Item Rate': '90', 'Item Category': 'Cold Drink'}\n",
            "Item Id:024\n",
            "Item Discription:{'Item Name': 'Sprite', 'Item Quantity': '70', 'Item Rate': '90', 'Item Category': 'Cold Drink'}\n",
            "Item Id:025\n",
            "Item Discription:{'Item Name': 'Thum-Up', 'Item Quantity': '50', 'Item Rate': '100', 'Item Category': 'Cold Drink'}\n"
          ]
        }
      ]
    },
    {
      "cell_type": "code",
      "metadata": {
        "id": "gyxPTEuLGLxK"
      },
      "source": [
        "def sales_func(data,date):\n",
        "    try:\n",
        "        with open('sales_register.json', 'r') as sr:\n",
        "            sales = json.load(sr)\n",
        "            sales[date] = data\n",
        "    except IOError:\n",
        "        sales = {date:data}\n",
        "    with open('sales_register.json', 'w') as sr:\n",
        "        json.dump(sales, sr, indent=4)"
      ],
      "execution_count": 15,
      "outputs": []
    },
    {
      "cell_type": "code",
      "metadata": {
        "id": "fg7uqZBAGRz_",
        "outputId": "87120ef2-9869-4ffc-f5a0-8c2476364acf",
        "colab": {
          "base_uri": "https://localhost:8080/"
        }
      },
      "source": [
        "def update_records(itemid,quantity):   #update inventory records\n",
        "    try:\n",
        "        with open('Inventory_records.json', 'r') as sr:\n",
        "            purchase_records = json.load(sr)\n",
        "            old_record = purchase_records[itemid]\n",
        "            old_record[attr[1]] =int(old_record[attr[1]])-quantity\n",
        "            purchase_records[itemid] =old_record \n",
        "    except IOError:\n",
        "        print(\"Inventory data not found\")\n",
        "    with open('Inventory_records.json', 'w') as sr:\n",
        "        json.dump(purchase_records, sr, indent=4)\n",
        "    \n",
        "itemid = input(\"Please Input Item Id for Purchase: \")\n",
        "attr = [\"Item Name\", \"Item Quantity\",\"Item Rate\",\"Item Category\"]\n",
        "\n",
        "if itemid in purchase_records:\n",
        "    print(f\"Item Found\\n{purchase_records[itemid]}\")\n",
        "    itemname = purchase_records[itemid][attr[0]]\n",
        "    quantity = int(input(\"Please Input Item Quantity: \"))\n",
        "    rate = float(purchase_records[itemid][attr[2]])\n",
        "    amount = rate *float(quantity)\n",
        "        \n",
        "    print(f\"Payable Amount: {amount}\\n****Thank you for your purchase****\")\n",
        "    sales_data = {attr[0]:itemname,attr[1]:quantity,attr[2]:rate,\"Amount\":amount}\n",
        "    sale_date = str(datetime.datetime.now())\n",
        "    sales_func(sales_data,sale_date)\n",
        "    update_records(itemid,quantity)\n",
        "    \n",
        "else:\n",
        "    print(\"Item not found, please input correct id\")"
      ],
      "execution_count": 16,
      "outputs": [
        {
          "output_type": "stream",
          "name": "stdout",
          "text": [
            "Please Input Item Id for Purchase: 008\n",
            "Item Found\n",
            "{'Item Name': 'Aloo sev', 'Item Quantity': '25', 'Item Rate': '20', 'Item Category': 'wafer'}\n",
            "Please Input Item Quantity: 20\n",
            "Payable Amount: 400.0\n",
            "****Thank you for your purchase****\n"
          ]
        }
      ]
    },
    {
      "cell_type": "code",
      "metadata": {
        "id": "5E88KK4_GdRB",
        "outputId": "69dbd5a2-d6e6-4026-f6b3-19f194d94be9",
        "colab": {
          "base_uri": "https://localhost:8080/"
        }
      },
      "source": [
        "#Add or Update Inventory data\n",
        "import json\n",
        "item_id  = input(\"Please input Item id: \")\n",
        "attr = [\"Item Name\", \"Item Quantity\",\"Item Rate\",\"Item Category\"]\n",
        "try:\n",
        "    with open('Inventory_records.json', 'r') as fp:\n",
        "        records = json.load(fp)\n",
        "    if item_id in records:\n",
        "        print(f\"***Update your inventory***\\n1.{attr[0]}\\n2.{attr[1]}\\n3.{attr[2]}\\n4.{attr[3]}\")\n",
        "        choice = int(input(\"\\n\\nEnter your choice: \"))\n",
        "        item_data  = records[item_id]\n",
        "        if choice == 1:\n",
        "            item_data[attr[0]] =input(f\"Please update new {attr[0]} : \")\n",
        "            print(f\"{attr[0]} update successfully\")\n",
        "            \n",
        "        elif choice == 2:\n",
        "            item_data[attr[1]] =input(f\"Please update new {attr[1]}: \")\n",
        "            print(f\"{attr[1]} update successfully\")\n",
        "            \n",
        "        elif choice == 3:\n",
        "            item_data[attr[2]] =input(f\"Please update new {attr[2]}: \")\n",
        "            print(f\"{attr[2]} update successfully\")\n",
        "      \n",
        "        elif choice == 4:\n",
        "            item_data[attr[3]] =input(f\"Please update new {attr[3]}: \")\n",
        "            print(f\"{attr[3]} update successfully\")\n",
        "        else:\n",
        "            print(\"Enter correct choice\")\n",
        "    else:\n",
        "        print(\"Item not found please add new values\")\n",
        "        item_data = {}\n",
        "        for i in range(4):\n",
        "            item_data[attr[i]] = input(f\"Please enter {attr[i]}: \")\n",
        "        records[item_id] = item_data\n",
        "        print(\"Item saved Successfully!!!\")\n",
        "except IOError:\n",
        "    print('File not found, will create a new one.')\n",
        "    records = {}\n",
        "    item_data = {}\n",
        "    for i in range(4):\n",
        "        item_data[attr[i]] = input(f\"Please enter {attr[i]}: \")\n",
        "    records[item_id] = item_data\n",
        "    print(\"Item saved Successfully!!!\")\n",
        "with open('Inventory_records.json', 'w') as fp:\n",
        "    json.dump(records, fp, indent=4)"
      ],
      "execution_count": 17,
      "outputs": [
        {
          "output_type": "stream",
          "name": "stdout",
          "text": [
            "Please input Item id: 121\n",
            "Item not found please add new values\n",
            "Please enter Item Name: looks\n",
            "Please enter Item Quantity: 100\n",
            "Please enter Item Rate: 1\n",
            "Please enter Item Category: pice\n",
            "Item saved Successfully!!!\n"
          ]
        }
      ]
    },
    {
      "cell_type": "code",
      "metadata": {
        "id": "E-GLyFvCGzY2",
        "outputId": "60a42978-e12e-44fb-b104-01dbc18cca4e",
        "colab": {
          "base_uri": "https://localhost:8080/"
        }
      },
      "source": [
        "#View Sales Register\n",
        "with open('sales_register.json', 'r') as fp:\n",
        "        sale_records = json.load(fp)\n",
        "        for sale in sale_records:\n",
        "            print(f\"Sale Date:{sale}\\nsale Discription:{sale_records[sale]}\")"
      ],
      "execution_count": 18,
      "outputs": [
        {
          "output_type": "stream",
          "name": "stdout",
          "text": [
            "Sale Date:2021-09-01 23:16:39.504696\n",
            "sale Discription:{'Item Name': 'Dairy Milk', 'Item Quantity': 2, 'Item Rate': 10.0, 'Amount': 20.0}\n",
            "Sale Date:2021-09-01 23:17:06.215207\n",
            "sale Discription:{'Item Name': 'Dairy Milk', 'Item Quantity': 4, 'Item Rate': 10.0, 'Amount': 40.0}\n",
            "Sale Date:2021-09-02 23:19:14.787175\n",
            "sale Discription:{'Item Name': 'Kitkat', 'Item Quantity': 20, 'Item Rate': 20.0, 'Amount': 400.0}\n",
            "Sale Date:2021-09-02 17:45:12.462812\n",
            "sale Discription:{'Item Name': 'Kitkat', 'Item Quantity': 5, 'Item Rate': 20.0, 'Amount': 100.0}\n",
            "Sale Date:2021-09-02 17:52:22.592896\n",
            "sale Discription:{'Item Name': 'Cadbury', 'Item Quantity': 9, 'Item Rate': 15.0, 'Amount': 135.0}\n",
            "Sale Date:2021-09-03 17:53:33.437146\n",
            "sale Discription:{'Item Name': 'Cadbury', 'Item Quantity': 12, 'Item Rate': 15.0, 'Amount': 180.0}\n",
            "Sale Date:2021-09-03 17:56:59.390534\n",
            "sale Discription:{'Item Name': 'Aloo sev', 'Item Quantity': 6, 'Item Rate': 20.0, 'Amount': 120.0}\n",
            "Sale Date:2021-09-03 18:05:30.233153\n",
            "sale Discription:{'Item Name': 'Aloo sev', 'Item Quantity': 7, 'Item Rate': 20.0, 'Amount': 140.0}\n",
            "Sale Date:2021-09-06 12:33:52.057830\n",
            "sale Discription:{'Item Name': 'Aloo sev', 'Item Quantity': 20, 'Item Rate': 20.0, 'Amount': 400.0}\n"
          ]
        }
      ]
    }
  ]
}